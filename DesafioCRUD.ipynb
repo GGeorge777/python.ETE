{
  "nbformat": 4,
  "nbformat_minor": 0,
  "metadata": {
    "colab": {
      "provenance": [],
      "authorship_tag": "ABX9TyN5i2zvNax8qpqrBe43DhUE",
      "include_colab_link": true
    },
    "kernelspec": {
      "name": "python3",
      "display_name": "Python 3"
    },
    "language_info": {
      "name": "python"
    }
  },
  "cells": [
    {
      "cell_type": "markdown",
      "metadata": {
        "id": "view-in-github",
        "colab_type": "text"
      },
      "source": [
        "<a href=\"https://colab.research.google.com/github/GGeorge777/python.ETE/blob/main/DesafioCRUD.ipynb\" target=\"_parent\"><img src=\"https://colab.research.google.com/assets/colab-badge.svg\" alt=\"Open In Colab\"/></a>"
      ]
    },
    {
      "cell_type": "code",
      "execution_count": 10,
      "metadata": {
        "colab": {
          "base_uri": "https://localhost:8080/"
        },
        "id": "TFV37D7kAkvW",
        "outputId": "7f47406f-e5a7-4944-dd4d-f82a32d01f26"
      },
      "outputs": [
        {
          "output_type": "stream",
          "name": "stdout",
          "text": [
            "\n",
            "\n",
            "titulo: Estagio\n",
            "salario: 1.200\n",
            "Data de Criação: 14/09\n",
            "Nome da empresa: MMSolucoes\n",
            "nome do Cargo: DevJr\n",
            "descrição da vaga: Desenvolver sistemas\n",
            "status da vaga: aberto\n",
            "titulo: Designer\n",
            "salario: 1.400\n",
            "Data de Criação: 11/09\n",
            "Nome da empresa: Ablabla\n",
            "nome do Cargo: Designer\n",
            "descrição da vaga: Criação de Artes\n",
            "status da vaga: fechado\n"
          ]
        }
      ],
      "source": [
        "#Alunos: Matheus George da Luz de Brito / allana brigida de araujo Albuquerque \n",
        "#Turma: 2 modulo D.S \n",
        "#DATA: 14/09 \n",
        "\n",
        "class Empresa:\n",
        "\n",
        " def __init__(self,titulo_vaga, salario_vaga, data_criacao_vaga, nome_empresa , nome_cargo, descricao_vaga , status):\n",
        "    self.titulo_vaga = titulo_vaga\n",
        "    self.salario_vaga = salario_vaga\n",
        "    self.data_criacao_vaga = data_criacao_vaga\n",
        "    self.nome_empresa = nome_empresa\n",
        "    self.nome_cargo = nome_cargo \n",
        "    self.descricao_vaga = descricao_vaga\n",
        "    self.status = status \n",
        "\n",
        "MMSolucoes = Empresa('Estagio', '1.200', '14/09','MMSolucoes','DevJr','Desenvolver sistemas','aberto')\n",
        "Ablabla = Empresa('Designer', '1.400', '11/09','Ablabla','Designer','Criação de Artes','fechado')\n",
        "silvinhoDate = Empresa('arquiteto de software', '7.000', '08/09' ,'silvinhoDate','DevSenior', 'Engenheiro de software', 'aberto')\n",
        "\n",
        "\n",
        "print(\"\\n\")\n",
        "print( 'titulo: ' + MMSolucoes.titulo_vaga + '\\n' + 'salario: ' + MMSolucoes.salario_vaga+'\\n' + 'Data de Criação: '+  MMSolucoes.data_criacao_vaga+'\\n' +'Nome da empresa: ' + MMSolucoes.nome_empresa + '\\n' + 'nome do Cargo: ' + MMSolucoes.nome_cargo+ '\\n' +'descrição da vaga: '+ MMSolucoes.descricao_vaga +'\\n' + 'status da vaga: '+ MMSolucoes.status)\n",
        "print( 'titulo: ' + Ablabla.titulo_vaga + '\\n' + 'salario: ' + Ablabla.salario_vaga+'\\n' + 'Data de Criação: '+  Ablabla.data_criacao_vaga+'\\n' +'Nome da empresa: ' + Ablabla.nome_empresa + '\\n' + 'nome do Cargo: ' + Ablabla.nome_cargo+ '\\n' +'descrição da vaga: '+ Ablabla.descricao_vaga +'\\n' + 'status da vaga: '+ Ablabla.status)\n",
        "print( 'titulo: ' + silvinhoDate.titulo_vaga + '\\n' + 'salario: ' + silvinhoDate.salario_vaga+'\\n' + 'Data de Criação: '+  silvinhoDate.data_criacao_vaga+'\\n' +'Nome da empresa: ' + silvinhoDate.nome_empresa + '\\n' + 'nome do Cargo: ' + silvinhoDate.nome_cargo+ '\\n' +'descrição da vaga: '+ silvinhoDate.descricao_vaga +'\\n' + 'status da vaga: '+ silvinhoDate.status)\n",
        "\n",
        "\n"
      ]
    },
    {
      "cell_type": "markdown",
      "source": [],
      "metadata": {
        "id": "GEl-eIBVCbcb"
      }
    }
  ]
}